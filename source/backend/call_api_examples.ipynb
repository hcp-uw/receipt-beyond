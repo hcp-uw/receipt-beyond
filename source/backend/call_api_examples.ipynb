{
 "cells": [
  {
   "cell_type": "code",
   "execution_count": 12,
   "metadata": {},
   "outputs": [],
   "source": [
    "from model.item import Item\n",
    "from model.receipt import Receipt\n",
    "from model.store import Store\n",
    "import json\n",
    "import requests\n",
    "from datetime import datetime"
   ]
  },
  {
   "cell_type": "markdown",
   "metadata": {},
   "source": [
    "# Receipt API Endpoints"
   ]
  },
  {
   "cell_type": "markdown",
   "metadata": {},
   "source": [
    "### register (Post): User registration\n",
    "**Parameters:** user_id, password\n",
    "\n",
    "**Response:**\n",
    "\n",
    "{\n",
    "  \"jwt\": \"placeholder_jwt_token\"\n",
    "}"
   ]
  },
  {
   "cell_type": "code",
   "execution_count": null,
   "metadata": {},
   "outputs": [],
   "source": [
    "url = 'http://davye.pythonanywhere.com/api/register'\n",
    "new_user = {'user_id':'HCP',\n",
    "          'password':'IsAwesome'}\n",
    "response = requests.post(url, json=new_user)\n",
    "print('Response code: ' + str(response.status_code))\n",
    "print(json.dumps(response.json(), indent=4))\n",
    "register_result = response.json()\n",
    "jwt_token = register_result.get('jwt')"
   ]
  },
  {
   "cell_type": "markdown",
   "metadata": {},
   "source": [
    "### Login (Post): User Login\n",
    "**Parameters:** user_id, password\n",
    "\n",
    "**Response Format:**\n",
    "\n",
    "{\n",
    "  \"jwt\": \"placeholder_jwt_token\"\n",
    "}"
   ]
  },
  {
   "cell_type": "code",
   "execution_count": null,
   "metadata": {},
   "outputs": [],
   "source": [
    "url = 'http://davye.pythonanywhere.com/api/login'\n",
    "returning_user = {'user_id':'HCP',\n",
    "          'password':'IsAwesome'}\n",
    "response = requests.post(url, json=returning_user)\n",
    "print('Response code: ' + str(response.status_code))\n",
    "print(json.dumps(response.json(), indent=4))\n",
    "login_result = response.json()\n",
    "jwt_token = login_result.get('jwt')"
   ]
  },
  {
   "cell_type": "markdown",
   "metadata": {},
   "source": [
    "### Receipt (POST): User adds a receipt\n",
    "\n",
    "**Parameters:** jwt_token, receipt object (dictionary)\n",
    "\n",
    "**Response:**\n",
    "\n",
    "{\n",
    "    'message': 'Receipt received successfully'\n",
    "}"
   ]
  },
  {
   "cell_type": "code",
   "execution_count": null,
   "metadata": {},
   "outputs": [],
   "source": [
    "url = 'http://davye.pythonanywhere.com/api/receipt'\n",
    "my_items = [Item('Apples', 5.00, 2), Item('Bananas', 4.99, 3), Item('Grapes', 5.99, 3)]\n",
    "my_store = Store(\"Trader Joe's\", \"4555 Roosevelt Way NE, Seattle, WA 98105\")\n",
    "my_date = datetime.strptime(\"2024-05-10\", \"%Y-%m-%d\")\n",
    "my_category = 'Groceries'\n",
    "my_total = 5.00+4.99+5.99\n",
    "my_receipt = Receipt(store=my_store, date=my_date, purchases=my_items, category=my_category, total = my_total)\n",
    "\n",
    "headers = {'Authorization': f'Bearer {jwt_token}'}\n",
    "response = requests.post(url, json=my_receipt.to_dict(), headers=headers)\n",
    "print('Response code: ' + str(response.status_code))\n",
    "print(json.dumps(response.json(), indent=4))"
   ]
  },
  {
   "cell_type": "markdown",
   "metadata": {},
   "source": [
    "### Receipt (GET): Gets all user receipts\n",
    "\n",
    "**Parameters:** jwt_token\n",
    "\n",
    "**Response:** \n",
    "\n",
    "List of jsonified receipt objects with additional receipt id"
   ]
  },
  {
   "cell_type": "code",
   "execution_count": null,
   "metadata": {},
   "outputs": [],
   "source": [
    "url = 'http://davye.pythonanywhere.com/api/receipt'\n",
    "headers = {'Authorization': f'Bearer {jwt_token}'}\n",
    "response = requests.get(url, headers=headers)\n",
    "print('Response code: ' + str(response.status_code))\n",
    "print(json.dumps(response.json(), indent=4))"
   ]
  },
  {
   "cell_type": "markdown",
   "metadata": {},
   "source": [
    "### month_cat_exp (GET): Gets user spending per category for current month\n",
    "\n",
    "**Parameters:** jwt_token\n",
    "\n",
    "**Response:**\n",
    "\n",
    "{'category_placeholder': spending_placeholder}"
   ]
  },
  {
   "cell_type": "code",
   "execution_count": null,
   "metadata": {},
   "outputs": [],
   "source": [
    "url = 'http://davye.pythonanywhere.com/api/month_cat_exp'\n",
    "headers = {'Authorization': f'Bearer {jwt_token}'}\n",
    "response = requests.get(url, headers=headers)\n",
    "print('Response code: ' + str(response.status_code))\n",
    "print(json.dumps(response.json(), indent=4))"
   ]
  },
  {
   "cell_type": "markdown",
   "metadata": {},
   "source": [
    "### month_exp (GET): Gets the days the user spent money on and the amount spent for the current month\n",
    "\n",
    "**Parameters:** jwt_token\n",
    "\n",
    "**Response:**\n",
    "\n",
    "{'day_placeholder':'spending_placeholder}"
   ]
  },
  {
   "cell_type": "code",
   "execution_count": null,
   "metadata": {},
   "outputs": [],
   "source": [
    "url = 'http://davye.pythonanywhere.com/api/month_exp'\n",
    "headers = {'Authorization': f'Bearer {jwt_token}'}\n",
    "response = requests.get(url, headers=headers)\n",
    "print('Response code: ' + str(response.status_code))\n",
    "print(json.dumps(response.json(), indent=4))"
   ]
  },
  {
   "cell_type": "markdown",
   "metadata": {},
   "source": [
    "## Figma for Android/iOS App: [Receipt+ Figma](https://www.figma.com/design/1hubQrhZHVsg3J9vlG2Kkg/Receipt%2B?node-id=0%3A1&t=ZNRuRUXyLTjp1hEQ-1)"
   ]
  }
 ],
 "metadata": {
  "kernelspec": {
   "display_name": "receipt_plus",
   "language": "python",
   "name": "python3"
  },
  "language_info": {
   "codemirror_mode": {
    "name": "ipython",
    "version": 3
   },
   "file_extension": ".py",
   "mimetype": "text/x-python",
   "name": "python",
   "nbconvert_exporter": "python",
   "pygments_lexer": "ipython3",
   "version": "3.12.1"
  }
 },
 "nbformat": 4,
 "nbformat_minor": 2
}
