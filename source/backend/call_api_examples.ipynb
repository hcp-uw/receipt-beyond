{
 "cells": [
  {
   "cell_type": "markdown",
   "metadata": {},
   "source": [
    "### Import necessary libraries to demonstrate API calls"
   ]
  },
  {
   "cell_type": "code",
   "execution_count": 5,
   "metadata": {},
   "outputs": [],
   "source": [
    "import json\n",
    "import requests"
   ]
  },
  {
   "cell_type": "markdown",
   "metadata": {},
   "source": [
    "### **Note:** if unexpected/unhandled server-side error occurs, the following will be returned:\n",
    "\n",
    "{'error': 'An unexpected error occurred'}, 500"
   ]
  },
  {
   "cell_type": "markdown",
   "metadata": {},
   "source": [
    "# Receipt API Endpoints (Functional)"
   ]
  },
  {
   "cell_type": "markdown",
   "metadata": {},
   "source": [
    "### register (Post): User registration\n",
    "**Parameters:** \n",
    "\n",
    "{**\"user_id\"**:{user_id}, **\"password\"**:{password}, **\"email\"**:{email}, **\"date\"**:{date on users device}}\n",
    "\n",
    "**Response:**\n",
    "\n",
    "If success: {\"message\": \"{current user} logged in successfully.\"}, 200\n",
    "\n",
    "If fail (see error.py for details): MissingUserIDError(), MissingPasswordError(), MissingEmailError(), MissingUserDate(), InvalidDateFormat(), UserAlreadyExistsError(), EmailAlreadyExistsError() \n"
   ]
  },
  {
   "cell_type": "code",
   "execution_count": 6,
   "metadata": {},
   "outputs": [
    {
     "name": "stdout",
     "output_type": "stream",
     "text": [
      "Response code: 400\n",
      "{\n",
      "    \"error\": \"User already exists\"\n",
      "}\n"
     ]
    }
   ],
   "source": [
    "# url = 'http://127.0.0.1:5000/api/register'\n",
    "url = 'https://receiptplus.pythonanywhere.com/api/register'\n",
    "new_user = {'user_id':'Dialga223',\n",
    "          'password':'Dialga223',\n",
    "          'email': \"Dialga223@gmail.com\",\n",
    "          'date':'2024-07-06'}\n",
    "response = requests.post(url, json=new_user)\n",
    "print('Response code: ' + str(response.status_code))\n",
    "print(json.dumps(response.json(), indent=4))\n",
    "session_cookie = response.cookies"
   ]
  },
  {
   "cell_type": "markdown",
   "metadata": {},
   "source": [
    "### login (Post): User Login\n",
    "**Parameters:**\n",
    "\n",
    "{**\"user_id\"**:{user_id}, **\"password\"**:{password}} *or* {**\"user_id\"**:{email}, **\"password\"**:{password}}\n",
    "\n",
    "**Response:**\n",
    "\n",
    "If success: {\"message\": \"{current user} logged in successfully.\"}, 200\n",
    "\n",
    "If fail (see error.py for details): MissingUserIDError(), MissingPasswordError(), UserNotFound(), InvalidPassword()\n"
   ]
  },
  {
   "cell_type": "code",
   "execution_count": 7,
   "metadata": {},
   "outputs": [
    {
     "name": "stdout",
     "output_type": "stream",
     "text": [
      "Response code: 200\n",
      "{\n",
      "    \"message\": \"Dialga22 logged in successfully.\"\n",
      "}\n",
      "<RequestsCookieJar[<Cookie session=.eJwlzjEOwjAMQNG7ZGZwbCexO3OPyklsqMTU0glxdyox_fG_T1pj9-OZlvd--i2t20xLKmJtwug-MXpwn-6iXhpiIQJQGLMjZGFAosZRrKtaQTbWbiiWlQaXQVEzguR2NQ82qhWiqkPDVowawJC4ViygnmufIJQjc7og5-H7X3Pf7PUwxPT9Ad65MHY.Zpkp_Q.oCPyeVN1ryKGbhO2Ari486qz0kw for receiptplus.pythonanywhere.com/>]>\n"
     ]
    }
   ],
   "source": [
    "url = 'https://receiptplus.pythonanywhere.com/api/login'\n",
    "# url = 'http://127.0.0.1:5000/api/login'\n",
    "returning_user = {'user_id':'Dialga22',\n",
    "          'password':'Dialga22'}\n",
    "response = requests.post(url, json=returning_user)\n",
    "print('Response code: ' + str(response.status_code))\n",
    "print(json.dumps(response.json(), indent=4))\n",
    "print(response.cookies)\n",
    "session_cookie = response.cookies"
   ]
  },
  {
   "cell_type": "markdown",
   "metadata": {},
   "source": [
    "### receipts (POST): User adds a receipt\n",
    "\n",
    "**Parameters:**\n",
    "\n",
    "**Required:**\n",
    "{'receipt_date':{date on receipt}, 'total':{receipt total}}\n",
    "\n",
    "**Optional:**\n",
    "\n",
    "{'category':{category of receipt}, 'store':{store name}, 'location':{store address}, \n",
    "\n",
    "'purchases': [{'name':{item 1 name}, 'price':{item 1 price}, 'amount':{item 1 quantity or weight}}, {'name':{item 2 name}, 'price':{item 2 price}, 'amount':{item 2 quantity or weight}}...]}\n",
    "\n",
    "**Response:**\n",
    "\n",
    "If success: {'message': 'Receipt uploaded successfully.'}), 201\n",
    "\n",
    "If fail (see error.py for details): MissingReceiptDate(), MissingReceiptTotal()"
   ]
  },
  {
   "cell_type": "code",
   "execution_count": 8,
   "metadata": {},
   "outputs": [
    {
     "name": "stdout",
     "output_type": "stream",
     "text": [
      "Response code: 201\n",
      "{\n",
      "    \"message\": \"Receipt uploaded successfully.\"\n",
      "}\n"
     ]
    }
   ],
   "source": [
    "url = 'https://receiptplus.pythonanywhere.com/api/receipts'\n",
    "# url = 'http://127.0.0.1:5000/api/receipts'\n",
    "receipt = {\n",
    "    'receipt_date': \"2024-07-07\",\n",
    "    'category': 'Groceries',\n",
    "    'total': '23.33',\n",
    "    'store': 'QFC',\n",
    "    'location': '4500 Wallingford Ave N, Seattle, WA 98103',\n",
    "    'purchases': [{'name':'banana'},{'name':'leaves','price':4.99,'amount':6},{'name':'pineapple','price':5.99,'amount':6}]\n",
    "}\n",
    "\n",
    "response = requests.post(url, json=receipt, cookies = session_cookie)\n",
    "print('Response code: ' + str(response.status_code))\n",
    "print(json.dumps(response.json(), indent=4))"
   ]
  },
  {
   "cell_type": "code",
   "execution_count": 9,
   "metadata": {},
   "outputs": [
    {
     "name": "stdout",
     "output_type": "stream",
     "text": [
      "Response code: 201\n",
      "{\n",
      "    \"message\": \"Receipt uploaded successfully.\"\n",
      "}\n"
     ]
    }
   ],
   "source": [
    "url = 'https://receiptplus.pythonanywhere.com/api/receipts'\n",
    "# url = 'http://127.0.0.1:5000/api/receipts'\n",
    "receipt = {\n",
    "    'receipt_date': \"2024-07-08\",\n",
    "    'category': 'Gas',\n",
    "    'total': '63.33',\n",
    "    'store': 'Chevron',\n",
    "    'location': '427 12th Ave, Seattle, WA 98122',\n",
    "    'purchases': [{'name':'gas','price':3.99,'amount':18}]\n",
    "}\n",
    "\n",
    "response = requests.post(url, json=receipt, cookies = session_cookie)\n",
    "print('Response code: ' + str(response.status_code))\n",
    "print(json.dumps(response.json(), indent=4))"
   ]
  },
  {
   "cell_type": "markdown",
   "metadata": {},
   "source": [
    "### month_cat_exp (GET): Gets user spending per category for current month\n",
    "\n",
    "**Parameters:** \n",
    "\n",
    "{**'date'**:{date on users device}}\n",
    "\n",
    "**Response:** \n",
    "\n",
    "If success: {'{category 1}': {spending 1}, '{category 2}':{spending 2},...}\n",
    "\n",
    "If fail (see error.py for details): MissingUserDate(), InvalidDateFormat()"
   ]
  },
  {
   "cell_type": "code",
   "execution_count": 10,
   "metadata": {},
   "outputs": [
    {
     "name": "stdout",
     "output_type": "stream",
     "text": [
      "Response code: 200\n",
      "{\n",
      "    \"Gas\": 63.33,\n",
      "    \"Groceries\": 23.33\n",
      "}\n"
     ]
    }
   ],
   "source": [
    "# url = 'http://127.0.0.1:5000/api/month_cat_exp'\n",
    "url = 'https://receiptplus.pythonanywhere.com/api/month_cat_exp'\n",
    "response = requests.get(url, json= {'date': '2024-07-07'}, cookies = session_cookie)\n",
    "print('Response code: ' + str(response.status_code))\n",
    "print(json.dumps(response.json(), indent=4))"
   ]
  },
  {
   "cell_type": "markdown",
   "metadata": {},
   "source": [
    "### month_exp (GET): Gets the days the user spent money on and the amount spent on those days for the current month\n",
    "\n",
    "**Parameters:**\n",
    "\n",
    "{**'date'**:{date on users device}}\n",
    "\n",
    "**Response:**\n",
    "\n",
    "If success:{'{day n of month}': {spending on day n}, '{day m of month}': {spending on day m},...}\n",
    "\n",
    "If fail (see error.py for details): MissingUserDate(), InvalidDateFormat()"
   ]
  },
  {
   "cell_type": "code",
   "execution_count": 11,
   "metadata": {},
   "outputs": [
    {
     "name": "stdout",
     "output_type": "stream",
     "text": [
      "Response code: 200\n",
      "{\n",
      "    \"7\": 23.33,\n",
      "    \"8\": 63.33\n",
      "}\n"
     ]
    }
   ],
   "source": [
    "url = 'https://receiptplus.pythonanywhere.com/api/month_exp'\n",
    "# url = 'http://127.0.0.1:5000/api/month_exp'\n",
    "response = requests.get(url, json= {'date': '2024-07-07'}, cookies = session_cookie)\n",
    "print('Response code: ' + str(response.status_code))\n",
    "print(json.dumps(response.json(), indent=4))"
   ]
  },
  {
   "cell_type": "markdown",
   "metadata": {},
   "source": [
    "## User Info"
   ]
  },
  {
   "cell_type": "code",
   "execution_count": 12,
   "metadata": {},
   "outputs": [
    {
     "name": "stdout",
     "output_type": "stream",
     "text": [
      "{\n",
      "    \"date_joined\": \"2024-07-06\",\n",
      "    \"email\": \"Dialga22@gmail.com\",\n",
      "    \"user_id\": \"Dialga22\"\n",
      "}\n"
     ]
    }
   ],
   "source": [
    "url = 'https://receiptplus.pythonanywhere.com/api/user_info'\n",
    "# url = 'http://127.0.0.1:5000/api/user_info'\n",
    "response = requests.get(url, cookies = session_cookie)\n",
    "print(json.dumps(response.json(), indent=4))"
   ]
  },
  {
   "cell_type": "markdown",
   "metadata": {},
   "source": [
    "### Logout (Post): User Logout\n",
    "**Parameters:** Session ID\n",
    "\n",
    "**Response Format:**\n"
   ]
  },
  {
   "cell_type": "code",
   "execution_count": 13,
   "metadata": {},
   "outputs": [
    {
     "name": "stdout",
     "output_type": "stream",
     "text": [
      "<RequestsCookieJar[]>\n"
     ]
    }
   ],
   "source": [
    "url = 'https://receiptplus.pythonanywhere.com/api/logout'\n",
    "response = requests.post(url, cookies = session_cookie)\n",
    "print(response.cookies)\n",
    "cookies = response.cookies"
   ]
  },
  {
   "cell_type": "markdown",
   "metadata": {},
   "source": [
    "## Figma for Android/iOS App: [Receipt+ Figma](https://www.figma.com/design/1hubQrhZHVsg3J9vlG2Kkg/Receipt%2B?node-id=0%3A1&t=ZNRuRUXyLTjp1hEQ-1)"
   ]
  },
  {
   "cell_type": "markdown",
   "metadata": {},
   "source": [
    "### Receipt (GET): Gets all user receipts (Not completed, work in Progress...)\n",
    "\n",
    "**Parameters:** {'Start':'MM-YYYY', 'End':'MM-YYYY'}\n",
    "\n",
    "**Response:** \n",
    "\n",
    "List of jsonified receipt objects with additional receipt id in the given time range"
   ]
  }
 ],
 "metadata": {
  "kernelspec": {
   "display_name": "receipt_plus",
   "language": "python",
   "name": "python3"
  },
  "language_info": {
   "codemirror_mode": {
    "name": "ipython",
    "version": 3
   },
   "file_extension": ".py",
   "mimetype": "text/x-python",
   "name": "python",
   "nbconvert_exporter": "python",
   "pygments_lexer": "ipython3",
   "version": "3.12.1"
  }
 },
 "nbformat": 4,
 "nbformat_minor": 2
}
