{
 "cells": [
  {
   "cell_type": "code",
   "execution_count": 242,
   "metadata": {},
   "outputs": [],
   "source": [
    "from model.item import Item\n",
    "from model.receipt import Receipt\n",
    "from model.store import Store\n",
    "import json\n",
    "import requests\n",
    "from datetime import datetime"
   ]
  },
  {
   "cell_type": "markdown",
   "metadata": {},
   "source": [
    "# Receipt API Endpoints"
   ]
  },
  {
   "cell_type": "markdown",
   "metadata": {},
   "source": [
    "### register (Post): User registration\n",
    "**Parameters:** user_id, password, email\n",
    "\n",
    "**Response:**\n"
   ]
  },
  {
   "cell_type": "code",
   "execution_count": 209,
   "metadata": {},
   "outputs": [
    {
     "name": "stdout",
     "output_type": "stream",
     "text": [
      "Response code: 200\n",
      "{\n",
      "    \"message\": \"Dialga3 logged in successfully.\"\n",
      "}\n"
     ]
    }
   ],
   "source": [
    "url = 'http://127.0.0.1:5000/api/register'\n",
    "# url = 'https://davye.pythonanywhere.com/api/register'\n",
    "new_user = {'user_id':'Dialga3',\n",
    "          'password':'Palkia',\n",
    "          'email': \"Dialga@gmail.com\"}\n",
    "response = requests.post(url, json=new_user)\n",
    "print('Response code: ' + str(response.status_code))\n",
    "print(json.dumps(response.json(), indent=4))\n",
    "session_cookie = response.cookies"
   ]
  },
  {
   "cell_type": "markdown",
   "metadata": {},
   "source": [
    "### Login (Post): User Login\n",
    "**Parameters:** user_id, password\n",
    "\n",
    "**Response Format:**\n",
    "\n",
    "{\n",
    "  \"jwt\": \"placeholder_jwt_token\"\n",
    "}"
   ]
  },
  {
   "cell_type": "code",
   "execution_count": 243,
   "metadata": {},
   "outputs": [
    {
     "name": "stdout",
     "output_type": "stream",
     "text": [
      "Response code: 200\n",
      "{\n",
      "    \"message\": \"Dialga3 logged in successfully.\"\n",
      "}\n",
      "<RequestsCookieJar[<Cookie session=.eJwlzjEOwjAMQNG7ZGZwbCexO3OPyklsqMTU0glxdyox_fG_T1pj9-OZlvd--i2t20xLKmJtwug-MXpwn-6iXhpiIQJQGLMjZGFAosZRrKtaQTbWbiiWlQaXQVEzguR2NQ82qhWiqkPDVowawJC4ViygnmufIJQjc7og5-H7X3Pf7PUwSt8froEwRQ.ZoDgJA._7ikONInNQncHx-yFT2XabRYryM for davye.pythonanywhere.com/>]>\n"
     ]
    }
   ],
   "source": [
    "url = 'https://davye.pythonanywhere.com/api/login'\n",
    "# url = 'http://127.0.0.1:5000/api/login'\n",
    "returning_user = {'user_id':'Dialga3',\n",
    "          'password':'Palkia'}\n",
    "response = requests.post(url, json=returning_user)\n",
    "print('Response code: ' + str(response.status_code))\n",
    "print(json.dumps(response.json(), indent=4))\n",
    "print(response.cookies)\n",
    "session_cookie = response.cookies"
   ]
  },
  {
   "cell_type": "markdown",
   "metadata": {},
   "source": [
    "### Receipt (POST): User adds a receipt\n",
    "\n",
    "**Parameters:** session token as in a cookie, receipt dict\n",
    "\n",
    "**Response:**\n",
    "\n",
    "{\n",
    "    'message': 'Receipt received successfully'\n",
    "}"
   ]
  },
  {
   "cell_type": "code",
   "execution_count": 244,
   "metadata": {},
   "outputs": [
    {
     "name": "stdout",
     "output_type": "stream",
     "text": [
      "Response code: 201\n",
      "{\n",
      "    \"message\": \"Receipt uploaded successfully.\"\n",
      "}\n"
     ]
    }
   ],
   "source": [
    "url = 'https://davye.pythonanywhere.com/api/receipts'\n",
    "# url = 'http://127.0.0.1:5000/api/receipts'\n",
    "receipt = {\n",
    "    'receipt_date': \"2024-07-07\",\n",
    "    'category': 'Auto Parts',\n",
    "    'total': '69.69',\n",
    "    'store': 'Niantic',\n",
    "    'location': 'Somewhere in Seattle',\n",
    "    'purchases': [{'name':'banana','price':6.99,'amount':6},{'name':'leaves','price':4.99,'amount':6},{'name':'pineapple','price':5.99,'amount':6}]\n",
    "}\n",
    "\n",
    "response = requests.post(url, json=receipt, cookies = session_cookie)\n",
    "print('Response code: ' + str(response.status_code))\n",
    "print(json.dumps(response.json(), indent=4))"
   ]
  },
  {
   "cell_type": "markdown",
   "metadata": {},
   "source": [
    "### Receipt (GET): Gets all user receipts (Not completed, work in Progress...)\n",
    "\n",
    "**Parameters:** {'Start':'MM-YYYY', 'End':'MM-YYYY'}\n",
    "\n",
    "**Response:** \n",
    "\n",
    "List of jsonified receipt objects with additional receipt id in the given time range"
   ]
  },
  {
   "cell_type": "markdown",
   "metadata": {},
   "source": [
    "### month_cat_exp (GET): Gets user spending per category for current month\n",
    "\n",
    "**Parameters:** jwt_token\n",
    "\n",
    "**Response:**\n",
    "\n",
    "{'category_placeholder': spending_placeholder}"
   ]
  },
  {
   "cell_type": "code",
   "execution_count": 245,
   "metadata": {},
   "outputs": [
    {
     "name": "stdout",
     "output_type": "stream",
     "text": [
      "Response code: 200\n",
      "{\n",
      "    \"Auto Parts\": 139.38,\n",
      "    \"Food\": 69.69,\n",
      "    \"Groceries\": 69.69\n",
      "}\n"
     ]
    }
   ],
   "source": [
    "# url = 'http://127.0.0.1:5000/api/month_cat_exp'\n",
    "url = 'https://davye.pythonanywhere.com/api/month_cat_exp'\n",
    "response = requests.get(url, json= {'date': '2024-07-07'}, cookies = session_cookie)\n",
    "print('Response code: ' + str(response.status_code))\n",
    "print(json.dumps(response.json(), indent=4))"
   ]
  },
  {
   "cell_type": "markdown",
   "metadata": {},
   "source": [
    "### month_exp (GET): Gets the days the user spent money on and the amount spent for the current month\n",
    "\n",
    "**Parameters:** jwt_token\n",
    "\n",
    "**Response:**\n",
    "\n",
    "{'day_placeholder':'spending_placeholder}"
   ]
  },
  {
   "cell_type": "code",
   "execution_count": 246,
   "metadata": {},
   "outputs": [
    {
     "name": "stdout",
     "output_type": "stream",
     "text": [
      "Response code: 200\n",
      "{\n",
      "    \"20\": 69.69,\n",
      "    \"27\": 69.69,\n",
      "    \"7\": 139.38\n",
      "}\n"
     ]
    }
   ],
   "source": [
    "url = 'https://davye.pythonanywhere.com/api/month_exp'\n",
    "# url = 'http://127.0.0.1:5000/api/month_exp'\n",
    "response = requests.get(url, json= {'date': '2024-07-07'}, cookies = session_cookie)\n",
    "print('Response code: ' + str(response.status_code))\n",
    "print(json.dumps(response.json(), indent=4))"
   ]
  },
  {
   "cell_type": "markdown",
   "metadata": {},
   "source": [
    "### Logout (Post): User Logout\n",
    "**Parameters:** Session ID\n",
    "\n",
    "**Response Format:**\n"
   ]
  },
  {
   "cell_type": "code",
   "execution_count": 208,
   "metadata": {},
   "outputs": [
    {
     "name": "stdout",
     "output_type": "stream",
     "text": [
      "<RequestsCookieJar[]>\n"
     ]
    }
   ],
   "source": [
    "url = 'https://davye.pythonanywhere.com/api/logout'\n",
    "response = requests.post(url, cookies = cookies)\n",
    "print(response.cookies)\n",
    "cookies = response.cookies"
   ]
  },
  {
   "cell_type": "markdown",
   "metadata": {},
   "source": [
    "## Figma for Android/iOS App: [Receipt+ Figma](https://www.figma.com/design/1hubQrhZHVsg3J9vlG2Kkg/Receipt%2B?node-id=0%3A1&t=ZNRuRUXyLTjp1hEQ-1)"
   ]
  },
  {
   "cell_type": "code",
   "execution_count": null,
   "metadata": {},
   "outputs": [],
   "source": [
    "url = 'https://davye.pythonanywhere.com/api/test'\n",
    "response = requests.get(url, cookies = cookies)\n",
    "\n",
    "print('Response Status Code:', response.status_code)\n",
    "print('Response JSON:', response.json())"
   ]
  }
 ],
 "metadata": {
  "kernelspec": {
   "display_name": "receipt_plus",
   "language": "python",
   "name": "python3"
  },
  "language_info": {
   "codemirror_mode": {
    "name": "ipython",
    "version": 3
   },
   "file_extension": ".py",
   "mimetype": "text/x-python",
   "name": "python",
   "nbconvert_exporter": "python",
   "pygments_lexer": "ipython3",
   "version": "3.12.1"
  }
 },
 "nbformat": 4,
 "nbformat_minor": 2
}
