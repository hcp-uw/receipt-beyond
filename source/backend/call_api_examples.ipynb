{
 "cells": [
  {
   "cell_type": "markdown",
   "metadata": {},
   "source": [
    "### Import necessary libraries to demonstrate API calls"
   ]
  },
  {
   "cell_type": "code",
   "execution_count": 2,
   "metadata": {},
   "outputs": [],
   "source": [
    "import json\n",
    "import requests\n",
    "import os\n",
    "import uuid"
   ]
  },
  {
   "cell_type": "markdown",
   "metadata": {},
   "source": [
    "### **Note:** if unexpected/unhandled server-side error occurs, the following will be returned:\n",
    "\n",
    "{'error': 'An unexpected error occurred'}, 500"
   ]
  },
  {
   "cell_type": "markdown",
   "metadata": {},
   "source": [
    "# Receipt API Endpoints (Local Only, Work-In-Progress)"
   ]
  },
  {
   "cell_type": "code",
   "execution_count": 34,
   "metadata": {},
   "outputs": [
    {
     "name": "stdout",
     "output_type": "stream",
     "text": [
      "Response code: 200\n",
      "{\n",
      "    \"message\": \"Togekiss logged in successfully.\"\n",
      "}\n",
      "<RequestsCookieJar[<Cookie session=.eJwlzjsOwjAMANC7ZGbIz3Hcc7BXdmxDxYDU0An17lRiefP7htV3m8-wfPbDbmHdNCwheRKu0TJkvnTvmRScmUttLUoGbVw0qZReB4sOQkPEZpl7Q4BCCRhYxTtmcncSGZQIpREMMEct0FOP5nUo4SgNYx85cgSrFK7IMW3_b-7vh722OcP5A2ymMv0.ZsWF6A.B8euUgh5hrJDYrCJcsdH0pMqmu4 for 127.0.0.1/>]>\n"
     ]
    }
   ],
   "source": [
    "### Login locally to test local endpoints (endpoints not on PythonAnywhere server)\n",
    "url = 'http://127.0.0.1:5000/api/login' ### ONLY FOR TESTING LOCAL ENDPOINTS AND NOT DEPLOYED ENDPOINTS\n",
    "returning_user = {'user_id':'Togekiss',\n",
    "          'password':'Togekiss'}\n",
    "response = requests.post(url, json=returning_user)\n",
    "print('Response code: ' + str(response.status_code))\n",
    "print(json.dumps(response.json(), indent=4))\n",
    "print(response.cookies)\n",
    "session_cookie = response.cookies"
   ]
  },
  {
   "cell_type": "markdown",
   "metadata": {},
   "source": [
    "### receipt_date_brackets (Get): Get sorted list of YYYY-MM which user receipts exist\n",
    "\n",
    "**Response:**\n",
    "\n",
    "If success: [\"{YYYY-MM}\",\"{YYYY-MM}\",..., \"{YYYY-MM}\"], 200\n",
    "\n",
    "If fail (see error.py for details): MissingUserIDError(), MissingPasswordError(), MissingEmailError(), MissingUserDate(), InvalidDateFormat(), UserAlreadyExistsError(), EmailAlreadyExistsError() \n"
   ]
  },
  {
   "cell_type": "code",
   "execution_count": 33,
   "metadata": {},
   "outputs": [
    {
     "name": "stdout",
     "output_type": "stream",
     "text": [
      "Response code: 500\n",
      "{\n",
      "    \"error\": \"An unexpected error occurred\"\n",
      "}\n"
     ]
    }
   ],
   "source": [
    "url = 'http://127.0.0.1:5000/api/receipt_date_brackets'\n",
    "response = requests.get(url, cookies = session_cookie)\n",
    "print('Response code: ' + str(response.status_code))\n",
    "print(json.dumps(response.json(), indent=4))"
   ]
  },
  {
   "cell_type": "markdown",
   "metadata": {},
   "source": [
    "### get_receipts (Post): Get all receipts in the specified YYYY-MM\n",
    "**Parameters:** \n",
    "\n",
    "{**\"year_month\"**:\"{YYYY-MM}\"}\n",
    "\n",
    "**Response:**\n",
    "\n",
    "If success: list of receipts, 200\n",
    "\n",
    "If fail (see error.py for details):\n"
   ]
  },
  {
   "cell_type": "code",
   "execution_count": 29,
   "metadata": {},
   "outputs": [
    {
     "name": "stdout",
     "output_type": "stream",
     "text": [
      "Response code: 200\n",
      "[\n",
      "    {\n",
      "        \"category\": \"Groceries\",\n",
      "        \"date\": \"Thu, 08 Aug 2024 00:00:00 GMT\",\n",
      "        \"location\": \"4500 Wallingford Ave N, Seattle, WA 98103\",\n",
      "        \"purchases\": [\n",
      "            {\n",
      "                \"name\": \"banana\"\n",
      "            },\n",
      "            {\n",
      "                \"name\": \"leaves\",\n",
      "                \"price\": 4.99,\n",
      "                \"quantity\": 6\n",
      "            },\n",
      "            {\n",
      "                \"name\": \"pineapple\",\n",
      "                \"price\": 5.99,\n",
      "                \"quantity\": 6\n",
      "            }\n",
      "        ],\n",
      "        \"store\": \"QFC\",\n",
      "        \"total\": 23.33\n",
      "    },\n",
      "    {\n",
      "        \"category\": \"Groceries\",\n",
      "        \"date\": \"Mon, 05 Aug 2024 00:00:00 GMT\",\n",
      "        \"location\": \"4500 Wallingford Ave N, Seattle, WA 98103\",\n",
      "        \"purchases\": [\n",
      "            {\n",
      "                \"name\": \"banana\"\n",
      "            },\n",
      "            {\n",
      "                \"name\": \"leaves\",\n",
      "                \"price\": 4.99,\n",
      "                \"quantity\": 6\n",
      "            },\n",
      "            {\n",
      "                \"name\": \"pineapple\",\n",
      "                \"price\": 5.99,\n",
      "                \"quantity\": 6\n",
      "            }\n",
      "        ],\n",
      "        \"store\": \"QFC\",\n",
      "        \"total\": 23.33\n",
      "    },\n",
      "    {\n",
      "        \"category\": \"Groceries\",\n",
      "        \"date\": \"Wed, 07 Aug 2024 00:00:00 GMT\",\n",
      "        \"location\": \"4500 Wallingford Ave N, Seattle, WA 98103\",\n",
      "        \"purchases\": [\n",
      "            {\n",
      "                \"name\": \"banana\"\n",
      "            },\n",
      "            {\n",
      "                \"name\": \"leaves\",\n",
      "                \"price\": 4.99,\n",
      "                \"quantity\": 6\n",
      "            },\n",
      "            {\n",
      "                \"name\": \"pineapple\",\n",
      "                \"price\": 5.99,\n",
      "                \"quantity\": 6\n",
      "            }\n",
      "        ],\n",
      "        \"store\": \"QFC\",\n",
      "        \"total\": 23.33\n",
      "    }\n",
      "]\n"
     ]
    }
   ],
   "source": [
    "url = 'http://127.0.0.1:5000/api/get_receipts'\n",
    "response = requests.get(url, json = {'year_month':'2024-08'}, cookies = session_cookie)\n",
    "print('Response code: ' + str(response.status_code))\n",
    "print(json.dumps(response.json(), indent=4))"
   ]
  },
  {
   "cell_type": "markdown",
   "metadata": {},
   "source": [
    "# Receipt API Endpoints (Deployed on PythonAnywhere)"
   ]
  },
  {
   "cell_type": "markdown",
   "metadata": {},
   "source": [
    "### register (Post): User registration\n",
    "**Parameters:** \n",
    "\n",
    "{**\"user_id\"**:{user_id}, **\"password\"**:{password}, **\"email\"**:{email}, **\"date\"**:{date on users device}}\n",
    "\n",
    "**Response:**\n",
    "\n",
    "If success: {\"message\": \"{current user} logged in successfully.\"}, 200\n",
    "\n",
    "If fail (see error.py for details): MissingUserIDError(), MissingPasswordError(), MissingEmailError(), MissingUserDate(), InvalidDateFormat(), UserAlreadyExistsError(), EmailAlreadyExistsError() \n"
   ]
  },
  {
   "cell_type": "code",
   "execution_count": 21,
   "metadata": {},
   "outputs": [
    {
     "name": "stdout",
     "output_type": "stream",
     "text": [
      "Response code: 200\n",
      "{\n",
      "    \"message\": \"Togekiss logged in successfully.\"\n",
      "}\n"
     ]
    }
   ],
   "source": [
    "# url = 'http://127.0.0.1:5000/api/register'\n",
    "url = 'https://receiptplus.pythonanywhere.com/api/register'\n",
    "new_user = {'user_id':'Togekiss',\n",
    "          'password':'Togekiss',\n",
    "          'email': \"Togekiss@gmail.com\",\n",
    "          'date':'2024-08-10'}\n",
    "response = requests.post(url, json=new_user)\n",
    "print('Response code: ' + str(response.status_code))\n",
    "print(json.dumps(response.json(), indent=4))\n",
    "session_cookie = response.cookies"
   ]
  },
  {
   "cell_type": "markdown",
   "metadata": {},
   "source": [
    "### login (Post): User Login\n",
    "**Parameters:**\n",
    "\n",
    "{**\"user_id\"**:{user_id}, **\"password\"**:{password}} *or* {**\"user_id\"**:{email}, **\"password\"**:{password}}\n",
    "\n",
    "**Response:**\n",
    "\n",
    "If success: {\"message\": \"{current user} logged in successfully.\"}, 200\n",
    "\n",
    "If fail (see error.py for details): MissingUserIDError(), MissingPasswordError(), UserNotFound(), InvalidPassword()\n"
   ]
  },
  {
   "cell_type": "code",
   "execution_count": 30,
   "metadata": {},
   "outputs": [
    {
     "name": "stdout",
     "output_type": "stream",
     "text": [
      "Response code: 200\n",
      "{\n",
      "    \"message\": \"Togekiss logged in successfully.\"\n",
      "}\n",
      "<RequestsCookieJar[<Cookie session=.eJwlzjEOwjAMQNG7ZGaIHdeOew52lMQ2VAxILZ0QdycS89OX_ifdYvfjkdb3fvol3TZLayLskCkyj8agS1ciZ5JaW3SRilBcaywcylhY1B0CbSh3YpxdVSM07FlYDEaZ2rgheORCZarlHCWYu4K1jgKOjiS2aCvNRpoj5-H7_-b6uvtzO470_QGoMzGk.ZsWC1g.aTf4Wzhx_3eX_J9Ont8QCzUsyvA for receiptplus.pythonanywhere.com/>]>\n"
     ]
    }
   ],
   "source": [
    "url = 'https://receiptplus.pythonanywhere.com/api/login'\n",
    "# url = 'http://127.0.0.1:5000/api/login'\n",
    "returning_user = {'user_id':'Palkia',\n",
    "          'password':'Palkia'}\n",
    "response = requests.post(url, json=returning_user)\n",
    "print('Response code: ' + str(response.status_code))\n",
    "print(json.dumps(response.json(), indent=4))\n",
    "print(response.cookies)\n",
    "session_cookie = response.cookies"
   ]
  },
  {
   "cell_type": "markdown",
   "metadata": {},
   "source": [
    "### change_user_email (Post): Change user's email\n",
    "**Parameters:** \n",
    "\n",
    "If no change, set value of key to empty string: e.g. {\"new_email\":{new_email}}\n",
    "\n",
    "Otherwise: {**\"new_email\"**:{new_email}}\n",
    "\n",
    "**Response:**\n",
    "If success: { \"message\": \"Email changed successfully.\" }, 201\n",
    "\n",
    "If fail (see error.py for details): MissingNewEmail()\n"
   ]
  },
  {
   "cell_type": "code",
   "execution_count": 79,
   "metadata": {},
   "outputs": [
    {
     "name": "stdout",
     "output_type": "stream",
     "text": [
      "Response code: 500\n",
      "{\n",
      "    \"error\": \"An unexpected error occurred\"\n",
      "}\n"
     ]
    }
   ],
   "source": [
    "url = 'https://receiptplus.pythonanywhere.com/api/change_user_email'\n",
    "# url = 'http://127.0.0.1:5000/api/change_user_email'\n",
    "new_user_info = {'new_email':'PalkiaNew@gmail.com'}\n",
    "response = requests.post(url, json=new_user_info, cookies = session_cookie)\n",
    "print('Response code: ' + str(response.status_code))\n",
    "print(json.dumps(response.json(), indent=4))"
   ]
  },
  {
   "cell_type": "markdown",
   "metadata": {},
   "source": [
    "### change_user_password (Post): Change user's password\n",
    "**Parameters:** \n",
    "\n",
    "{**\"current_password\"**:{current_password}, **\"new_password\"**:{new_password}}\n",
    "\n",
    "**Response:**\n",
    "If success: { \"message\": \"Password changed successfully.\" }, 201\n",
    "\n",
    "If fail (see error.py for details): MissingPasswordError(), MissingNewPasswordError()"
   ]
  },
  {
   "cell_type": "code",
   "execution_count": 80,
   "metadata": {},
   "outputs": [
    {
     "name": "stdout",
     "output_type": "stream",
     "text": [
      "Response code: 500\n",
      "{\n",
      "    \"error\": \"An unexpected error occurred\"\n",
      "}\n"
     ]
    }
   ],
   "source": [
    "url = 'https://receiptplus.pythonanywhere.com/api/change_user_password'\n",
    "# url = 'http://127.0.0.1:5000/api/change_user_password'\n",
    "new_user_info = {'current_password':'Palkia', 'new_password':'PalkiaNew'}\n",
    "response = requests.post(url, json=new_user_info, cookies = session_cookie)\n",
    "print('Response code: ' + str(response.status_code))\n",
    "print(json.dumps(response.json(), indent=4))"
   ]
  },
  {
   "cell_type": "markdown",
   "metadata": {},
   "source": [
    "### receipts_parsing (POST): Parses a receipt image and returns parsed receipt\n",
    "\n",
    "**Parameters:**\n",
    "\n",
    "**Required:**\n",
    "files = {'receipt_image':{binary content of image file}}\n",
    "\n",
    "\n",
    "**Response:**\n",
    "\n",
    "If success:\n",
    "{\n",
    "    'receipt_date': {date on receipt},\n",
    "    'total': {total},\n",
    "    'store': {store name},\n",
    "    'location': {store address},\n",
    "    'purchases': [{'name':{name of item},'price':{unit price},'quantity':{quantity}},{'name':{name of item},'price':{unit price},'quantity':{quantity}}]\n",
    "}\n",
    "\n",
    "If fail (see error.py for details): MissingReceiptImage(), InvalidReceiptImage()"
   ]
  },
  {
   "cell_type": "code",
   "execution_count": 89,
   "metadata": {},
   "outputs": [
    {
     "name": "stdout",
     "output_type": "stream",
     "text": [
      "Response code: 201\n",
      "{\n",
      "    \"location\": \"2746 NE 45th Street\",\n",
      "    \"purchases\": [\n",
      "        {\n",
      "            \"name\": \"TWIN BROOK MILK\",\n",
      "            \"price\": 6.99,\n",
      "            \"quantity\": 1.0\n",
      "        },\n",
      "        {\n",
      "            \"name\": \"BTI DEPOSIT\",\n",
      "            \"price\": 2.15,\n",
      "            \"quantity\": 1.0\n",
      "        },\n",
      "        {\n",
      "            \"name\": \"PROG SOUP\",\n",
      "            \"price\": 1.49,\n",
      "            \"quantity\": 1.0\n",
      "        },\n",
      "        {\n",
      "            \"name\": \"PROGRESSO SOUP\",\n",
      "            \"price\": 1.49,\n",
      "            \"quantity\": 1.0\n",
      "        },\n",
      "        {\n",
      "            \"name\": \"NEXCARE TAPE\",\n",
      "            \"price\": 6.49,\n",
      "            \"quantity\": 1.0\n",
      "        },\n",
      "        {\n",
      "            \"name\": \"DAVES KILLER BREADQA\",\n",
      "            \"price\": 4.99,\n",
      "            \"quantity\": 1.0\n",
      "        },\n",
      "        {\n",
      "            \"name\": \"GRAPES BLACK\",\n",
      "            \"price\": 3.49,\n",
      "            \"quantity\": 2.33\n",
      "        },\n",
      "        {\n",
      "            \"name\": \"GRAPES BLACK\",\n",
      "            \"price\": 3.49,\n",
      "            \"quantity\": 1.75\n",
      "        },\n",
      "        {\n",
      "            \"name\": \"EGGPLANT\",\n",
      "            \"price\": 2.89,\n",
      "            \"quantity\": 1.0\n",
      "        },\n",
      "        {\n",
      "            \"name\": \"NAVELS CA\",\n",
      "            \"price\": 1.99,\n",
      "            \"quantity\": 3.66\n",
      "        },\n",
      "        {\n",
      "            \"name\": \"DRIS STRWBRY\",\n",
      "            \"price\": 7.99,\n",
      "            \"quantity\": 1.0\n",
      "        },\n",
      "        {\n",
      "            \"name\": \"GREEN BEANS\",\n",
      "            \"price\": 2.99,\n",
      "            \"quantity\": 1.0\n",
      "        },\n",
      "        {\n",
      "            \"name\": \"ROMA TOMATO\",\n",
      "            \"price\": 1.99,\n",
      "            \"quantity\": 1.58\n",
      "        },\n",
      "        {\n",
      "            \"name\": \"EGGPLANT\",\n",
      "            \"price\": 2.89,\n",
      "            \"quantity\": 1.0\n",
      "        },\n",
      "        {\n",
      "            \"name\": \"BARTLETT ORG QA\",\n",
      "            \"price\": 1.99,\n",
      "            \"quantity\": 3.64\n",
      "        },\n",
      "        {\n",
      "            \"name\": \"AVOCADO HASS\",\n",
      "            \"price\": 2.99,\n",
      "            \"quantity\": 1.0\n",
      "        },\n",
      "        {\n",
      "            \"name\": \"CALB CRUNCHY LOOPS<+\",\n",
      "            \"price\": 1.99,\n",
      "            \"quantity\": 1.0\n",
      "        },\n",
      "        {\n",
      "            \"name\": \"CALB LENTIL SNAPS <+\",\n",
      "            \"price\": 1.99,\n",
      "            \"quantity\": 1.0\n",
      "        },\n",
      "        {\n",
      "            \"name\": \"CALB LENTIL SNAPS <t\",\n",
      "            \"price\": 1.99,\n",
      "            \"quantity\": 1.0\n",
      "        },\n",
      "        {\n",
      "            \"name\": \"CALB CRUNCHY LOOPS<+\",\n",
      "            \"price\": 1.99,\n",
      "            \"quantity\": 1.0\n",
      "        },\n",
      "        {\n",
      "            \"name\": \"TLMK SNCKNG CHEESEQA\",\n",
      "            \"price\": 4.99,\n",
      "            \"quantity\": 1.0\n",
      "        },\n",
      "        {\n",
      "            \"name\": \"NTSW TOMATOES\",\n",
      "            \"price\": 4.99,\n",
      "            \"quantity\": 1.0\n",
      "        },\n",
      "        {\n",
      "            \"name\": \"RASPBERRIES RED QA\",\n",
      "            \"price\": 2.99,\n",
      "            \"quantity\": 1.0\n",
      "        },\n",
      "        {\n",
      "            \"name\": \"BANANAS\",\n",
      "            \"price\": 0.69,\n",
      "            \"quantity\": 2.75\n",
      "        },\n",
      "        {\n",
      "            \"name\": \"BANA BAKING\",\n",
      "            \"price\": 0.49,\n",
      "            \"quantity\": 3.82\n",
      "        },\n",
      "        {\n",
      "            \"name\": \"SIMPLE TRUTH EGGS\",\n",
      "            \"price\": 5.49,\n",
      "            \"quantity\": 1.0\n",
      "        },\n",
      "        {\n",
      "            \"name\": \"CELSSN ICE TEA\",\n",
      "            \"price\": 4.99,\n",
      "            \"quantity\": 1.0\n",
      "        },\n",
      "        {\n",
      "            \"name\": \"BROCCOL CROWNS\",\n",
      "            \"price\": 2.99,\n",
      "            \"quantity\": 1.28\n",
      "        }\n",
      "    ],\n",
      "    \"receipt_date\": \"10/21/23\",\n",
      "    \"store\": \"jobs.qfc.com\",\n",
      "    \"total\": 119.31\n",
      "}\n"
     ]
    }
   ],
   "source": [
    "# url = 'http://127.0.0.1:5000/api/receipts_parsing'\n",
    "url = 'https://receiptplus.pythonanywhere.com/api/receipts_parsing'\n",
    "image_path = os.path.join(os.getcwd(), \"sample_receipts/QFC_1.jpg\")\n",
    "\n",
    "# Open the image file in binary mode\n",
    "with open(image_path, 'rb') as image_file:\n",
    "    # Create a dictionary to store the file data\n",
    "    files = {\n",
    "        'receipt_image': (\n",
    "            image_file\n",
    "        )\n",
    "    }\n",
    "    response = requests.post(url, files=files, cookies = session_cookie)\n",
    "\n",
    "print('Response code: ' + str(response.status_code))\n",
    "print(json.dumps(response.json(), indent=4))\n"
   ]
  },
  {
   "cell_type": "markdown",
   "metadata": {},
   "source": [
    "### receipts (POST): User adds a receipt\n",
    "\n",
    "**Parameters:**\n",
    "\n",
    "**Required:**\n",
    "{'receipt_date':{date on receipt}, 'total':{receipt total}}\n",
    "\n",
    "**Optional:**\n",
    "\n",
    "{'category':{category of receipt}, 'store':{store name}, 'location':{store address}, \n",
    "\n",
    "'purchases': [{'name':{item 1 name}, 'price':{item 1 price}, 'quantity':{item 1 quantity or weight}}, {'name':{item 2 name}, 'price':{item 2 price}, 'quantity':{item 2 quantity or weight}}...]}\n",
    "\n",
    "**Response:**\n",
    "\n",
    "If success: {'message': 'Receipt uploaded successfully.'}), 201\n",
    "\n",
    "If fail (see error.py for details): MissingReceiptDate(), MissingReceiptTotal()"
   ]
  },
  {
   "cell_type": "code",
   "execution_count": 41,
   "metadata": {},
   "outputs": [
    {
     "name": "stdout",
     "output_type": "stream",
     "text": [
      "Response code: 201\n",
      "{\n",
      "    \"message\": \"Receipt uploaded successfully.\"\n",
      "}\n"
     ]
    }
   ],
   "source": [
    "# url = 'https://receiptplus.pythonanywhere.com/api/receipts'\n",
    "url = 'http://127.0.0.1:5000/api/receipts'\n",
    "receipt = {\n",
    "    'receipt_date': \"2025-10-18\",\n",
    "    'category': 'Groceries',\n",
    "    'total': '23.33',\n",
    "    'store': 'QFC',\n",
    "    'location': '4500 Wallingford Ave N, Seattle, WA 98103',\n",
    "    'purchases': [{'name':'banana'},{'name':'leaves','price':4.99,'quantity':6},{'name':'pineapple','price':5.99,'quantity':6}]\n",
    "}\n",
    "\n",
    "# seesion_cookie = ''\n",
    "response = requests.post(url, json=receipt, cookies = session_cookie)\n",
    "print('Response code: ' + str(response.status_code))\n",
    "print(json.dumps(response.json(), indent=4))"
   ]
  },
  {
   "cell_type": "code",
   "execution_count": 15,
   "metadata": {},
   "outputs": [
    {
     "name": "stdout",
     "output_type": "stream",
     "text": [
      "Response code: 201\n",
      "{\n",
      "    \"message\": \"Receipt uploaded successfully.\"\n",
      "}\n"
     ]
    }
   ],
   "source": [
    "url = 'https://receiptplus.pythonanywhere.com/api/receipts'\n",
    "# url = 'http://127.0.0.1:5000/api/receipts'\n",
    "receipt = {\n",
    "    'receipt_date': \"2024-07-08\",\n",
    "    'category': 'Gas',\n",
    "    'total': '63.33',\n",
    "    'store': 'Chevron',\n",
    "    'location': '427 12th Ave, Seattle, WA 98122',\n",
    "    'purchases': [{'name':'gas','price':3.99,'quantity':18}]\n",
    "}\n",
    "\n",
    "response = requests.post(url, json=receipt, cookies = session_cookie)\n",
    "print('Response code: ' + str(response.status_code))\n",
    "print(json.dumps(response.json(), indent=4))"
   ]
  },
  {
   "cell_type": "markdown",
   "metadata": {},
   "source": [
    "### month_cat_exp (GET): Gets user spending per category for current month\n",
    "\n",
    "**Parameters:** \n",
    "\n",
    "{**'date'**:{date on users device}}\n",
    "\n",
    "**Response:** \n",
    "\n",
    "If success: {'{category 1}': {spending 1}, '{category 2}':{spending 2},...}\n",
    "\n",
    "If fail (see error.py for details): MissingUserDate(), InvalidDateFormat()"
   ]
  },
  {
   "cell_type": "code",
   "execution_count": 16,
   "metadata": {},
   "outputs": [
    {
     "name": "stdout",
     "output_type": "stream",
     "text": [
      "Response code: 200\n",
      "{\n",
      "    \"Gas\": 63.33,\n",
      "    \"Groceries\": 23.33\n",
      "}\n"
     ]
    }
   ],
   "source": [
    "# url = 'http://127.0.0.1:5000/api/month_cat_exp'\n",
    "url = 'https://receiptplus.pythonanywhere.com/api/month_cat_exp'\n",
    "response = requests.get(url, json= {'date': '2024-07-07'}, cookies = session_cookie)\n",
    "print('Response code: ' + str(response.status_code))\n",
    "print(json.dumps(response.json(), indent=4))"
   ]
  },
  {
   "cell_type": "markdown",
   "metadata": {},
   "source": [
    "### month_exp (GET): Gets the days the user spent money on and the amount spent on those days for the current month\n",
    "\n",
    "**Parameters:**\n",
    "\n",
    "{**'date'**:{date on users device}}\n",
    "\n",
    "**Response:**\n",
    "\n",
    "If success:{'{day n of month}': {spending on day n}, '{day m of month}': {spending on day m},...}\n",
    "\n",
    "If fail (see error.py for details): MissingUserDate(), InvalidDateFormat()"
   ]
  },
  {
   "cell_type": "code",
   "execution_count": 17,
   "metadata": {},
   "outputs": [
    {
     "name": "stdout",
     "output_type": "stream",
     "text": [
      "Response code: 200\n",
      "{\n",
      "    \"7\": 23.33,\n",
      "    \"8\": 63.33\n",
      "}\n"
     ]
    }
   ],
   "source": [
    "url = 'https://receiptplus.pythonanywhere.com/api/month_exp'\n",
    "# url = 'http://127.0.0.1:5000/api/month_exp'\n",
    "response = requests.get(url, json= {'date': '2024-07-07'}, cookies = session_cookie)\n",
    "print('Response code: ' + str(response.status_code))\n",
    "print(json.dumps(response.json(), indent=4))"
   ]
  },
  {
   "cell_type": "markdown",
   "metadata": {},
   "source": [
    "## User Info"
   ]
  },
  {
   "cell_type": "code",
   "execution_count": 18,
   "metadata": {},
   "outputs": [
    {
     "name": "stdout",
     "output_type": "stream",
     "text": [
      "{\n",
      "    \"date_joined\": \"2024-08-10\",\n",
      "    \"email\": \"Lugia@gmail.com\",\n",
      "    \"user_id\": \"Lugia\"\n",
      "}\n"
     ]
    }
   ],
   "source": [
    "# session_cookie = \".eJwlzjsOwjAMANC7ZGaIndipexnkXwQSQ9XSCXF3KjG_5X3Kfe55PMr63s-8lfszylogqVZBp8GcyMJCmL2Z9lzCghQVh6bIZRFTzYCQclRhS1NRiUnhrYtDU1eoIxcOtVTgBRqFzjalpnvHhYJHzN7YrZNU71CuyHnk_t_otr0SsJXvD1IGMqY.Zq1Zyg.yS_mJxHOVBlIajDSmS6dFJD4hiw\"\n",
    "url = 'https://receiptplus.pythonanywhere.com/api/user_info'\n",
    "# url = 'http://127.0.0.1:5000/api/user_info'\n",
    "# response = requests.get(url, cookies = session_cookie)\n",
    "response = requests.get(url, cookies = session_cookie)\n",
    "print(json.dumps(response.json(), indent=4))"
   ]
  },
  {
   "cell_type": "markdown",
   "metadata": {},
   "source": [
    "### Logout (Post): User Logout\n",
    "**Parameters:** Session ID\n",
    "\n",
    "**Response Format:**\n"
   ]
  },
  {
   "cell_type": "code",
   "execution_count": 49,
   "metadata": {},
   "outputs": [
    {
     "name": "stdout",
     "output_type": "stream",
     "text": [
      "<RequestsCookieJar[]>\n"
     ]
    }
   ],
   "source": [
    "url = 'https://receiptplus.pythonanywhere.com/api/logout'\n",
    "response = requests.post(url, cookies = session_cookie)\n",
    "print(response.cookies)\n",
    "cookies = response.cookies"
   ]
  },
  {
   "cell_type": "markdown",
   "metadata": {},
   "source": [
    "## Figma for Android/iOS App: [Receipt+ Figma](https://www.figma.com/design/1hubQrhZHVsg3J9vlG2Kkg/Receipt%2B?node-id=0%3A1&t=ZNRuRUXyLTjp1hEQ-1)"
   ]
  },
  {
   "cell_type": "markdown",
   "metadata": {},
   "source": [
    "### Receipt (GET): Gets all user receipts (Not completed, work in Progress...)\n",
    "\n",
    "**Parameters:** {'Start':'MM-YYYY', 'End':'MM-YYYY'}\n",
    "\n",
    "**Response:** \n",
    "\n",
    "List of jsonified receipt objects with additional receipt id in the given time range"
   ]
  }
 ],
 "metadata": {
  "kernelspec": {
   "display_name": "receipt_plus",
   "language": "python",
   "name": "python3"
  },
  "language_info": {
   "codemirror_mode": {
    "name": "ipython",
    "version": 3
   },
   "file_extension": ".py",
   "mimetype": "text/x-python",
   "name": "python",
   "nbconvert_exporter": "python",
   "pygments_lexer": "ipython3",
   "version": "3.12.3"
  }
 },
 "nbformat": 4,
 "nbformat_minor": 2
}
