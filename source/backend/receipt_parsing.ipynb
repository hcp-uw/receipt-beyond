{
 "cells": [
  {
   "cell_type": "code",
   "execution_count": 47,
   "metadata": {},
   "outputs": [],
   "source": [
    "import pytesseract\n",
    "from PIL import Image\n",
    "import os\n",
    "\n",
    "# Path to the Tesseract executable (change this according to your setup)\n",
    "# pytesseract.pytesseract.tesseract_cmd = r'C:\\Users\\USER\\AppData\\Local\\Programs\\Tesseract-OCR\\tesseract.exe'\n",
    "ocr_tesseract_path = os.path.join(os.getcwd(), \"tesseract_ocr\\\\tesseract.exe\")\n",
    "pytesseract.pytesseract.tesseract_cmd = ocr_tesseract_path\n",
    "\n",
    "def parse_receipt(image_path):\n",
    "    with Image.open(image_path) as img:\n",
    "        text = pytesseract.image_to_string(img)\n",
    "        return text\n",
    "\n",
    "# Path to your receipt image\n",
    "image_path = os.path.join(os.getcwd(), \"sample_receipts\\\\QFC_1.jpg\")\n",
    "receipt_text = parse_receipt(image_path)\n",
    "\n"
   ]
  },
  {
   "cell_type": "code",
   "execution_count": 19,
   "metadata": {},
   "outputs": [
    {
     "data": {
      "text/plain": [
       "'2746.NE ;\\n506 504-0 4 i Street\\n\\nYour ( ashiee was CHEC 522\\n\\nIWIN ie MILK\\nnett ae\\n. J\\ney QF SAVINGS 0 ee\\ns Mega Fvent payings!. 00\\nsc PROGRESSO <t 1.49 F\\nPi OFC USAIN : 2. mo\\nVv\\n\\nFX NEXCARI E TAPE\\n\\nTAP! 6.49 X\\nDAVES RITER BREADQA 4,99 F\\nGre Say INS 2.00\\nWI GRAPES. blak\\n1.75 Ib @ 3,49 /\\nWT GRAPES BLACK\\ngit tb ¢ ron.\\n.99 /Ib\\nWI NAVE\\n; DORIS\\n1. 28\\n\\nLS CA\\n28 Ib @ 2.99 /Ib\\nWI bas) al Hones\\n\\nos\\n\\nSTRWBRY\\n0.80 |\\n\\nwo @ wr\\nOo WwW OD O— Ww\\n\\nWT RONA TOMATO\\nEGGPLANT\\n.64 Ib @ 1, a /\\\\b\\nso panes\\n202.9\\n\\n“Ayncg HASS 5.98 F\\nCALB CRUNCHY Coe 1.99 F\\nf Sc Meg mtr Savings! . 00\\n= CALB | LENT II 1 SNAP as 1990 F\\nS¢ Meya Event Savings! .00\\n’ CAB LENTIL SNAP. di 1999 F\\nse Mega Event Savings1.00\\nCALB LENTIL SNAPS <4 1.99 F\\n\\nwont\\nHue ee a Sa) ge\\n\\nmn oo :\\n\\nws\\nseeks\\na\\n>\\n=\\n\\nSc Mega Event Savin naa 1.00\\n\\nsc CALB CRUNCHY we Si 1,99 F\\n\\nOre leva Bat Savings! . 00\\n\\nst ADVANTAGE (ISTOMER 44444446176\\nFue Paine\\n\\naning Points\\nel bus ‘ai Points\\n\\ni SNCKNG TCHEESEDA\\nNTSW TOMATOES\\n\\nREPRE RED QA\\nFt 1.70\\n\\n1.90 F\\n1.87 F\\n5149 F\\n«199 F\\n0.67\\n19:31\\n: eeisT300.°\\n| 021151 TONAL: 119.31\\nagoogo00031010\\n; (Tes sosagancsecsreds\\nCHANGE ie\\n~ TOTAL NUMBER OF ITEMS SOLD = 39\\no kt ca\\n\\n10/21/23 06\\nyetevetet cs\\n\\n‘ SECO OO HO rR\\n) Fuel Points Earned Today: 23\\nTotal Oct Fuel Points: 493\\nevocecruLosererecerercscet eye vcer yr\\nRemaining Sept Fuel Points: 460\\nPeverccvectrenetererctcesr attra sr errr\\n\\nGAMING POINTS REWARDS PLUS\\nEvery $40 Spent on participating\\n\\nitems earns Rewards Points.\\n\\nVisit www. pointsrewardsplus. com\\n\\nto redeem for rewards.\\n\\nYour Rewards spending: 29.41\\nExpires on 1/2/2024\\nyecevrinaievseaerestcrtitcbeecer eter,\\nHasterChef Points Earned Today: 11\\nTotal MasterChef Points:\\n\\nWasterthef Points Expire 1/23/24\\nWee ics cane aelte\\n» EARN 50 FUEL\\n\\nBY GIVING US FEEDBACK\\n\\nants aa con/f dback\\n\\nead\\n4\\n\\nEntr 69-807-522-/91\\nES ow Peseta erent\\n\\n‘opportunity avait\\n\\na, ‘our tean today!\\n“te WER\\nig. fc. COM\\n\\nwww, afc. col\\n\\n'"
      ]
     },
     "execution_count": 19,
     "metadata": {},
     "output_type": "execute_result"
    }
   ],
   "source": [
    "receipt_text"
   ]
  },
  {
   "cell_type": "code",
   "execution_count": 55,
   "metadata": {},
   "outputs": [
    {
     "name": "stdout",
     "output_type": "stream",
     "text": [
      "{\n",
      "  \"store_name\": \"2776.NE\",\n",
      "  \"items\": [\n",
      "    {\n",
      "      \"name\": \"IWIN ie MILK\",\n",
      "      \"price\": 0.0,\n",
      "      \"quantity\": 1\n",
      "    },\n",
      "    {\n",
      "      \"name\": \"PROGRESSO\",\n",
      "      \"price\": 1.49,\n",
      "      \"quantity\": 1\n",
      "    },\n",
      "    {\n",
      "      \"name\": \"DAVES RITER BREADQA\",\n",
      "      \"price\": 4.99,\n",
      "      \"quantity\": 1\n",
      "    },\n",
      "    {\n",
      "      \"name\": \"GRAPES BLACK\",\n",
      "      \"price\": 1.75,\n",
      "      \"quantity\": 0.5\n",
      "    },\n",
      "    {\n",
      "      \"name\": \"GRAPES BLACK\",\n",
      "      \"price\": 0.99,\n",
      "      \"quantity\": 1\n",
      "    },\n",
      "    {\n",
      "      \"name\": \"ONA TOMATO EGGPLANT\",\n",
      "      \"price\": 0.64,\n",
      "      \"quantity\": 2.9\n",
      "    },\n",
      "    {\n",
      "      \"name\": \"Ayncg HASS\",\n",
      "      \"price\": 5.98,\n",
      "      \"quantity\": 1\n",
      "    },\n",
      "    {\n",
      "      \"name\": \"CALB CRUNCHY Coe\",\n",
      "      \"price\": 1.99,\n",
      "      \"quantity\": 1\n",
      "    },\n",
      "    {\n",
      "      \"name\": \"CALB LENT II SNAP\",\n",
      "      \"price\": 1.99,\n",
      "      \"quantity\": 1\n",
      "    },\n",
      "    {\n",
      "      \"name\": \"CALB LENTIL SNAP\",\n",
      "      \"price\": 1.99,\n",
      "      \"quantity\": 4\n",
      "    },\n",
      "    {\n",
      "      \"name\": \"CALB CRUNCHY we Si\",\n",
      "      \"price\": 1.99,\n",
      "      \"quantity\": 1\n",
      "    }\n",
      "  ],\n",
      "  \"date\": \"10/21/23\",\n",
      "  \"total\": 119.31\n",
      "}\n"
     ]
    }
   ],
   "source": [
    "\n",
    "print(get_chat_response(receipt_text))"
   ]
  },
  {
   "cell_type": "code",
   "execution_count": 53,
   "metadata": {},
   "outputs": [],
   "source": [
    "template = '''\n",
    "{\n",
    "  \"store_name\": \"{{store_name}}\",\n",
    "  \"store_address\": \"{{store_name}}\",\n",
    "  \"items\": [\n",
    "    {\n",
    "      \"name\": \"{{item1_name}}\",\n",
    "      \"price\": {{item1_price}},\n",
    "      \"quantity\": {{item1_quantity}}\n",
    "    },\n",
    "    {\n",
    "      \"name\": \"{{item2_name}}\",\n",
    "      \"price\": {{item2_price}},\n",
    "      \"quantity\": {{item2_quantity}}\n",
    "    }\n",
    "  ],\n",
    "  \"date\": \"{{date}}\",\n",
    "  \"total\": {{total}}\n",
    "}\n",
    "'''\n",
    "\n"
   ]
  },
  {
   "cell_type": "code",
   "execution_count": 54,
   "metadata": {},
   "outputs": [],
   "source": [
    "\n",
    "import openai\n",
    "from decouple import config\n",
    "from config import Config\n",
    "\n",
    "openai.organization = Config.OPEN_AI_ORG\n",
    "openai.api_key = Config.OPEN_AI_KEY\n",
    "client = openai.OpenAI()\n",
    "\n",
    "\n",
    "def get_chat_response(message_input):\n",
    "\n",
    "    messages = [{\"role\": \"system\", \"content\": \"You will parse out store name, items (name, price, quantity), date, total from the user receipt and print as this format: \" + template}]\n",
    "    user_message = {\"role\": \"user\", \"content\": message_input}\n",
    "    messages.append(user_message)\n",
    "\n",
    "    try:\n",
    "        response = client.chat.completions.create(\n",
    "            model=\"gpt-3.5-turbo\",\n",
    "            messages=messages\n",
    "        )\n",
    "        message_text = response.choices[0].message.content\n",
    "        return message_text\n",
    "    except Exception as e:\n",
    "        print(e)\n",
    "        return"
   ]
  },
  {
   "cell_type": "code",
   "execution_count": 45,
   "metadata": {},
   "outputs": [
    {
     "name": "stdout",
     "output_type": "stream",
     "text": [
      "{'id': 'chatcmpl-9LZiK2LIOpg8tQT7CnmhQITrXlS48', 'object': 'chat.completion', 'created': 1714929200, 'model': 'gpt-4-turbo-2024-04-09', 'choices': [{'index': 0, 'message': {'role': 'assistant', 'content': \"Here's the list of items from the receipt presented in CSV format (item name, item price, item quantity):\\n\\n```\\nLumindoork, Milk, $6.29\\nPhil, Soup, $2.19\\nBig, Dippers, $2.16\\nOrganic, Blueberries, $2.00\\nHoneycrisp, Apples, $1.00\\nDeav', Saltines, $4.99\\nGrapes, Black, $8.13\\nGrapes, Black, $2.89\\nEggplant, $2.89\\nNavel, Oranges, $6.00\\nNavel, Oranges, $3.83\\nGreen, Onions, $2.39\\nRed, Potatoes, $3.24\\nGarlic, $2.74\\nAvacado, Hass, $5.98\\nCereal, Crunchy Loops, $1.99\\nPears, $1.00\\nAvo,* Dev, $1.99\\nCajun, Snaps, $1.99\\nCajun, Snaps, $1.99\\nAvocado, Alvacados, $1.99\\nRusset, Potatoes, $4.99\\nOranges, Seed, $4.99\\n0.820, lbs, $1.70\\nBanana, $1.50\\nOnion, $0.49\\n\"}, 'logprobs': None, 'finish_reason': 'length'}], 'usage': {'prompt_tokens': 1131, 'completion_tokens': 300, 'total_tokens': 1431}, 'system_fingerprint': 'fp_5d12056990'}\n"
     ]
    }
   ],
   "source": [
    "import base64\n",
    "import requests\n",
    "\n",
    "# OpenAI API Key\n",
    "api_key = Config.OPEN_AI_KEY\n",
    "\n",
    "# Function to encode the image\n",
    "\n",
    "def encode_image(image_path):\n",
    "  with open(image_path, \"rb\") as image_file:\n",
    "    return base64.b64encode(image_file.read()).decode('utf-8')\n",
    "\n",
    "# Path to your image\n",
    "image_path = os.path.join(os.getcwd(), \"sample_receipts\\\\QFC_1.jpg\")\n",
    "\n",
    "# Getting the base64 string\n",
    "base64_image = encode_image(image_path)\n",
    "\n",
    "headers = {\n",
    "  \"Content-Type\": \"application/json\",\n",
    "  \"Authorization\": f\"Bearer {api_key}\"\n",
    "}\n",
    "\n",
    "payload = {\n",
    "  \"model\": \"gpt-4-turbo\",\n",
    "  \"messages\": [\n",
    "    {\n",
    "      \"role\": \"user\",\n",
    "      \"content\": [\n",
    "        {\n",
    "          \"type\": \"text\",\n",
    "          \"text\": \"In the receipt, parse out item name, item price, and item quantity as a csv.\"\n",
    "        },\n",
    "        {\n",
    "          \"type\": \"image_url\",\n",
    "          \"image_url\": {\n",
    "            \"url\": f\"data:image/jpeg;base64,{base64_image}\"\n",
    "          }\n",
    "        }\n",
    "      ]\n",
    "    }\n",
    "  ],\n",
    "  \"max_tokens\": 300\n",
    "}\n",
    "\n",
    "response = requests.post(\"https://api.openai.com/v1/chat/completions\", headers=headers, json=payload)\n",
    "\n",
    "print(response.json())"
   ]
  },
  {
   "cell_type": "code",
   "execution_count": 46,
   "metadata": {},
   "outputs": [
    {
     "name": "stdout",
     "output_type": "stream",
     "text": [
      "Here's the list of items from the receipt presented in CSV format (item name, item price, item quantity):\n",
      "\n",
      "```\n",
      "Lumindoork, Milk, $6.29\n",
      "Phil, Soup, $2.19\n",
      "Big, Dippers, $2.16\n",
      "Organic, Blueberries, $2.00\n",
      "Honeycrisp, Apples, $1.00\n",
      "Deav', Saltines, $4.99\n",
      "Grapes, Black, $8.13\n",
      "Grapes, Black, $2.89\n",
      "Eggplant, $2.89\n",
      "Navel, Oranges, $6.00\n",
      "Navel, Oranges, $3.83\n",
      "Green, Onions, $2.39\n",
      "Red, Potatoes, $3.24\n",
      "Garlic, $2.74\n",
      "Avacado, Hass, $5.98\n",
      "Cereal, Crunchy Loops, $1.99\n",
      "Pears, $1.00\n",
      "Avo,* Dev, $1.99\n",
      "Cajun, Snaps, $1.99\n",
      "Cajun, Snaps, $1.99\n",
      "Avocado, Alvacados, $1.99\n",
      "Russet, Potatoes, $4.99\n",
      "Oranges, Seed, $4.99\n",
      "0.820, lbs, $1.70\n",
      "Banana, $1.50\n",
      "Onion, $0.49\n",
      "\n"
     ]
    }
   ],
   "source": [
    "a = response.json()\n",
    "print(a['choices'][0]['message']['content'])"
   ]
  },
  {
   "cell_type": "code",
   "execution_count": null,
   "metadata": {},
   "outputs": [],
   "source": []
  }
 ],
 "metadata": {
  "kernelspec": {
   "display_name": "receipt_plus",
   "language": "python",
   "name": "python3"
  },
  "language_info": {
   "codemirror_mode": {
    "name": "ipython",
    "version": 3
   },
   "file_extension": ".py",
   "mimetype": "text/x-python",
   "name": "python",
   "nbconvert_exporter": "python",
   "pygments_lexer": "ipython3",
   "version": "3.12.1"
  }
 },
 "nbformat": 4,
 "nbformat_minor": 2
}
